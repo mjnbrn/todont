{
 "cells": [
  {
   "cell_type": "code",
   "execution_count": 32,
   "metadata": {
    "collapsed": true,
    "pycharm": {
     "is_executing": false,
     "name": "#%%\n"
    }
   },
   "outputs": [
    {
     "name": "stdout",
     "text": [
      "{'completed': False,\n",
      " 'done': False,\n",
      " 'due': 1616486580,\n",
      " 'id': 0,\n",
      " 'long': 'Learn python by writing a silly todo and notes app :)',\n",
      " 'short': 'Learn Python'}\n"
     ],
     "output_type": "stream"
    }
   ],
   "source": [
    "# \n",
    "import time\n",
    "from datetime import datetime, timezone\n",
    "import pprint\n",
    "\n",
    "td_record = {\n",
    "    'id': 0,\n",
    "    'short': \"Learn Python\",\n",
    "    'long': \"Learn python by writing a silly todo and notes app :)\",\n",
    "    'due': int(time.mktime(datetime.now(timezone.utc).timetuple())),\n",
    "    'done': False,\n",
    "    'completed': False\n",
    "}\n",
    "\n",
    "pprint.pprint(td_record)\n"
   ]
  },
  {
   "cell_type": "code",
   "execution_count": 30,
   "outputs": [],
   "source": [
    "from sqlalchemy import create_engine\n",
    "\n",
    "eng = create_engine('sqlite:///todont2.db3', echo=True)"
   ],
   "metadata": {
    "collapsed": false,
    "pycharm": {
     "name": "#%%\n",
     "is_executing": false
    }
   }
  },
  {
   "cell_type": "code",
   "execution_count": 31,
   "outputs": [
    {
     "name": "stdout",
     "text": [
      "2021-03-23 00:01:04,475 INFO sqlalchemy.engine.Engine BEGIN (implicit)\n",
      "2021-03-23 00:01:04,477 INFO sqlalchemy.engine.Engine PRAGMA main.table_info(\"users\")\n",
      "2021-03-23 00:01:04,478 INFO sqlalchemy.engine.Engine [raw sql] ()\n",
      "2021-03-23 00:01:04,480 INFO sqlalchemy.engine.Engine PRAGMA temp.table_info(\"users\")\n",
      "2021-03-23 00:01:04,481 INFO sqlalchemy.engine.Engine [raw sql] ()\n",
      "2021-03-23 00:01:04,482 INFO sqlalchemy.engine.Engine PRAGMA main.table_info(\"todonts\")\n",
      "2021-03-23 00:01:04,484 INFO sqlalchemy.engine.Engine [raw sql] ()\n",
      "2021-03-23 00:01:04,485 INFO sqlalchemy.engine.Engine PRAGMA temp.table_info(\"todonts\")\n",
      "2021-03-23 00:01:04,486 INFO sqlalchemy.engine.Engine [raw sql] ()\n",
      "2021-03-23 00:01:04,487 INFO sqlalchemy.engine.Engine \n",
      "CREATE TABLE users (\n",
      "\tid INTEGER NOT NULL, \n",
      "\tname VARCHAR, \n",
      "\tPRIMARY KEY (id)\n",
      ")\n",
      "\n",
      "\n",
      "2021-03-23 00:01:04,489 INFO sqlalchemy.engine.Engine [no key 0.00124s] ()\n",
      "2021-03-23 00:01:04,496 INFO sqlalchemy.engine.Engine \n",
      "CREATE TABLE todonts (\n",
      "\tid INTEGER NOT NULL, \n",
      "\tuid INTEGER, \n",
      "\tshortdesc VARCHAR, \n",
      "\tlongdesc VARCHAR, \n",
      "\tcreated INTEGER, \n",
      "\tdue INTEGER, \n",
      "\tcomplete INTEGER, \n",
      "\tPRIMARY KEY (id)\n",
      ")\n",
      "\n",
      "\n",
      "2021-03-23 00:01:04,497 INFO sqlalchemy.engine.Engine [no key 0.00114s] ()\n",
      "2021-03-23 00:01:04,504 INFO sqlalchemy.engine.Engine COMMIT\n"
     ],
     "output_type": "stream"
    }
   ],
   "source": [
    "from sqlalchemy import MetaData, Table, Column, Integer, String\n",
    "meta = MetaData()\n",
    "\n",
    "users = Table(\n",
    "    'users', meta,\n",
    "    Column('id', Integer, primary_key = True, autoincrement=True),\n",
    "    Column('name', String)\n",
    ")\n",
    "\n",
    "todonts = Table(\n",
    "    'todonts', meta,\n",
    "    Column('id', Integer, primary_key = True, autoincrement=True),\n",
    "    Column('uid', Integer),\n",
    "    Column('shortdesc', String),\n",
    "    Column('longdesc', String),\n",
    "    Column('created', Integer),\n",
    "    Column('due', Integer),\n",
    "    Column('complete', Integer),\n",
    ")\n",
    "\n",
    "meta.create_all(eng)"
   ],
   "metadata": {
    "collapsed": false,
    "pycharm": {
     "name": "#%%\n",
     "is_executing": false
    }
   }
  },
  {
   "cell_type": "code",
   "execution_count": null,
   "outputs": [],
   "source": [
    "\n"
   ],
   "metadata": {
    "collapsed": false,
    "pycharm": {
     "name": "#%%\n"
    }
   }
  }
 ],
 "metadata": {
  "kernelspec": {
   "display_name": "Python 3",
   "language": "python",
   "name": "python3"
  },
  "language_info": {
   "codemirror_mode": {
    "name": "ipython",
    "version": 2
   },
   "file_extension": ".py",
   "mimetype": "text/x-python",
   "name": "python",
   "nbconvert_exporter": "python",
   "pygments_lexer": "ipython2",
   "version": "2.7.6"
  },
  "pycharm": {
   "stem_cell": {
    "cell_type": "raw",
    "source": [],
    "metadata": {
     "collapsed": false
    }
   }
  }
 },
 "nbformat": 4,
 "nbformat_minor": 0
}